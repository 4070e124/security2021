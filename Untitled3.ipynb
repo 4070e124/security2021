{
  "nbformat": 4,
  "nbformat_minor": 0,
  "metadata": {
    "colab": {
      "name": "Untitled3.ipynb",
      "provenance": [],
      "authorship_tag": "ABX9TyMTMLhQhenMAy4FrbTgMJKt",
      "include_colab_link": true
    },
    "kernelspec": {
      "name": "python3",
      "display_name": "Python 3"
    },
    "language_info": {
      "name": "python"
    }
  },
  "cells": [
    {
      "cell_type": "markdown",
      "metadata": {
        "id": "view-in-github",
        "colab_type": "text"
      },
      "source": [
        "<a href=\"https://colab.research.google.com/github/4070e124/security2021/blob/main/Untitled3.ipynb\" target=\"_parent\"><img src=\"https://colab.research.google.com/assets/colab-badge.svg\" alt=\"Open In Colab\"/></a>"
      ]
    },
    {
      "cell_type": "code",
      "metadata": {
        "colab": {
          "base_uri": "https://localhost:8080/"
        },
        "id": "I1uy71OsVNTK",
        "outputId": "f0bd6ab5-36d3-497f-b062-70509615c3dd"
      },
      "source": [
        "import requests   \n",
        "from bs4 import BeautifulSoup\n",
        "\n",
        "resp = requests.get('https://jwlin.github.io/py-scraping-analysis-book/ch1/connect.html')\n",
        "soup = BeautifulSoup(resp.text, 'html.parser')\n",
        "print(soup.find('h1').text)"
      ],
      "execution_count": 1,
      "outputs": [
        {
          "output_type": "stream",
          "text": [
            "歡迎來到 Pycone 松果城市！\n"
          ],
          "name": "stdout"
        }
      ]
    },
    {
      "cell_type": "markdown",
      "metadata": {
        "id": "UEHNmcl-VU0w"
      },
      "source": [
        "import requests ==> load requests module\n",
        "\n",
        "from bs4 import BeautifulSoup ==> load BeautifulSoup module\n",
        "\n",
        "requests.get('https://jwlin.github.io/py-scraping-analysis-book/ch1/connect.html')\n",
        "\n",
        "==> use get() method to download web page\n",
        "\n",
        "==> requests.get('url')\n",
        "\n",
        "==> get a response(resp)\n",
        "\n",
        "==> resp.text === html code\n",
        "\n",
        "解析html語法==> 使用BeautifulSoup\n",
        "\n",
        "格式 ==> BeautifulSoup(resp.text[下載的檔案], 'html.parser[解析器]')\n",
        "\n",
        "soup.find('h1') ==> 找出解析後的檔案你要的部分\n"
      ]
    }
  ]
}