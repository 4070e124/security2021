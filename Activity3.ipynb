{
  "nbformat": 4,
  "nbformat_minor": 0,
  "metadata": {
    "colab": {
      "name": "Activity3.ipynb",
      "provenance": [],
      "authorship_tag": "ABX9TyPMJZDhkno2cMPXepeqX2UM",
      "include_colab_link": true
    },
    "kernelspec": {
      "name": "python3",
      "display_name": "Python 3"
    },
    "language_info": {
      "name": "python"
    }
  },
  "cells": [
    {
      "cell_type": "markdown",
      "metadata": {
        "id": "view-in-github",
        "colab_type": "text"
      },
      "source": [
        "<a href=\"https://colab.research.google.com/github/4070e124/security2021/blob/main/Activity3.ipynb\" target=\"_parent\"><img src=\"https://colab.research.google.com/assets/colab-badge.svg\" alt=\"Open In Colab\"/></a>"
      ]
    },
    {
      "cell_type": "code",
      "metadata": {
        "id": "IDU9wvNM-oWZ",
        "colab": {
          "base_uri": "https://localhost:8080/"
        },
        "outputId": "118f23d8-cc11-4086-83b0-d5a2c8064d5a"
      },
      "source": [
        "# Choose a question to ask\n",
        "print('How would you rate your day on a scale of 1 to 10?')"
      ],
      "execution_count": null,
      "outputs": [
        {
          "output_type": "stream",
          "text": [
            "How would you rate your day on a scale of 1 to 10?\n"
          ],
          "name": "stdout"
        }
      ]
    },
    {
      "cell_type": "code",
      "metadata": {
        "id": "z7MVdoby-oWg",
        "colab": {
          "base_uri": "https://localhost:8080/"
        },
        "outputId": "22878a03-a0f4-4231-e8b6-4ba157831d3a"
      },
      "source": [
        "# Set a variable equal to input()\n",
        "day_rating = input()"
      ],
      "execution_count": null,
      "outputs": [
        {
          "output_type": "stream",
          "text": [
            "5\n"
          ],
          "name": "stdout"
        }
      ]
    },
    {
      "cell_type": "code",
      "metadata": {
        "id": "AjnKq5Uk-oWg",
        "colab": {
          "base_uri": "https://localhost:8080/"
        },
        "outputId": "e1ee6248-16ea-4c96-d7d9-12b479bc9018"
      },
      "source": [
        "# Select an appropriate output.\n",
        "print('You feel like a ' + day_rating + ' today. Thanks for letting me know')"
      ],
      "execution_count": null,
      "outputs": [
        {
          "output_type": "stream",
          "text": [
            "You feel like a 5 today. Thanks for letting me know\n"
          ],
          "name": "stdout"
        }
      ]
    },
    {
      "cell_type": "code",
      "metadata": {
        "id": "oBkrROdB-oWh"
      },
      "source": [
        ""
      ],
      "execution_count": null,
      "outputs": []
    }
  ]
}