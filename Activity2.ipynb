{
  "nbformat": 4,
  "nbformat_minor": 0,
  "metadata": {
    "colab": {
      "name": "Activity2.ipynb",
      "provenance": [],
      "authorship_tag": "ABX9TyPAWvFLaraH7P6tNIXeTXBi",
      "include_colab_link": true
    },
    "kernelspec": {
      "name": "python3",
      "display_name": "Python 3"
    },
    "language_info": {
      "name": "python"
    }
  },
  "cells": [
    {
      "cell_type": "markdown",
      "metadata": {
        "id": "view-in-github",
        "colab_type": "text"
      },
      "source": [
        "<a href=\"https://colab.research.google.com/github/4070e124/security2021/blob/main/Activity2.ipynb\" target=\"_parent\"><img src=\"https://colab.research.google.com/assets/colab-badge.svg\" alt=\"Open In Colab\"/></a>"
      ]
    },
    {
      "cell_type": "code",
      "metadata": {
        "id": "7oKY8DuE7Trm",
        "outputId": "07267eaf-fccb-4f92-b25e-65748d1d4ccc"
      },
      "source": [
        "\"\"\"\n",
        "This document determines the Pythagorean Distance\n",
        "between three given points\n",
        "\"\"\""
      ],
      "execution_count": null,
      "outputs": [
        {
          "output_type": "execute_result",
          "data": {
            "text/plain": [
              "'\\nThis document determines the Pythagorean Distance\\nbetween three given points\\n'"
            ]
          },
          "metadata": {
            "tags": []
          },
          "execution_count": 1
        }
      ]
    },
    {
      "cell_type": "code",
      "metadata": {
        "id": "n8nMoZmQ7Tru"
      },
      "source": [
        "# Initialize variables\n",
        "x, y, z = 2, 3, 4"
      ],
      "execution_count": null,
      "outputs": []
    },
    {
      "cell_type": "code",
      "metadata": {
        "id": "Gr0NHhde7Tru"
      },
      "source": [
        "# Pythagorean Theorem in 3 dimensions\n",
        "w_squared = x**2 + y**2 + z**2"
      ],
      "execution_count": null,
      "outputs": []
    },
    {
      "cell_type": "code",
      "metadata": {
        "colab": {
          "base_uri": "https://localhost:8080/"
        },
        "id": "GupOzBg1-CZ2",
        "outputId": "4b20e87c-ce5e-4056-a024-20b6881bea94"
      },
      "source": [
        "w_squared"
      ],
      "execution_count": null,
      "outputs": [
        {
          "output_type": "execute_result",
          "data": {
            "text/plain": [
              "29"
            ]
          },
          "metadata": {
            "tags": []
          },
          "execution_count": 15
        }
      ]
    },
    {
      "cell_type": "code",
      "metadata": {
        "id": "TjsZaNYu7Trv"
      },
      "source": [
        "# The square root gives the distance\n",
        "w = w_squared ** 0.5"
      ],
      "execution_count": null,
      "outputs": []
    },
    {
      "cell_type": "code",
      "metadata": {
        "id": "XKf6qDuF7Trw",
        "colab": {
          "base_uri": "https://localhost:8080/"
        },
        "outputId": "c0f31d74-16f9-4d56-9f0e-6333d06b62a2"
      },
      "source": [
        "#Show the distance\n",
        "w"
      ],
      "execution_count": null,
      "outputs": [
        {
          "output_type": "execute_result",
          "data": {
            "text/plain": [
              "5.385164807134504"
            ]
          },
          "metadata": {
            "tags": []
          },
          "execution_count": 18
        }
      ]
    },
    {
      "cell_type": "code",
      "metadata": {
        "id": "M85op7j67Trw"
      },
      "source": [
        ""
      ],
      "execution_count": null,
      "outputs": []
    }
  ]
}