{
  "nbformat": 4,
  "nbformat_minor": 0,
  "metadata": {
    "colab": {
      "name": "Untitled4.ipynb",
      "provenance": [],
      "authorship_tag": "ABX9TyOTK+G/OO8EzLb9GOS3Ul43",
      "include_colab_link": true
    },
    "kernelspec": {
      "name": "python3",
      "display_name": "Python 3"
    },
    "language_info": {
      "name": "python"
    }
  },
  "cells": [
    {
      "cell_type": "markdown",
      "metadata": {
        "id": "view-in-github",
        "colab_type": "text"
      },
      "source": [
        "<a href=\"https://colab.research.google.com/github/4070e124/security2021/blob/main/Untitled4.ipynb\" target=\"_parent\"><img src=\"https://colab.research.google.com/assets/colab-badge.svg\" alt=\"Open In Colab\"/></a>"
      ]
    },
    {
      "cell_type": "code",
      "metadata": {
        "colab": {
          "base_uri": "https://localhost:8080/"
        },
        "id": "qHL_fLsDVvkN",
        "outputId": "d7e70dec-613b-4ec4-c677-0f5ae1465c24"
      },
      "source": [
        "import requests\n",
        "from bs4 import BeautifulSoup\n",
        "\n",
        "\n",
        "resp = requests.get('http://jwlin.github.io/py-scraping-analysis-book/ch2/blog/blog.html')\n",
        "soup = BeautifulSoup(resp.text, 'html.parser')\n",
        "print(soup.find('h4').text)"
      ],
      "execution_count": 1,
      "outputs": [
        {
          "output_type": "stream",
          "text": [
            "\n",
            "Mac使用者\n",
            "\n"
          ],
          "name": "stdout"
        }
      ]
    },
    {
      "cell_type": "markdown",
      "metadata": {
        "id": "wS1jOYXgV1yu"
      },
      "source": [
        "按兩下 (或按 Enter 鍵) 即可編輯\n",
        "\n",
        "import requests ==> load requests module\n",
        "\n",
        "from bs4 import BeautifulSoup ==> load BeautifulSoup module\n",
        "\n",
        "requests.get('http://jwlin.github.io/py-scraping-analysis-book/ch2/blog/blog.html')\n",
        "\n",
        "==> use get() method to download web page\n",
        "\n",
        "==> requests.get('url')\n",
        "\n",
        "==> get a response(resp)\n",
        "\n",
        "==> resp.text === html code\n",
        "\n",
        "解析html語法==> 使用BeautifulSoup\n",
        "\n",
        "格式 ==> BeautifulSoup(resp.text[下載的檔案], 'html.parser[解析器]')\n",
        "\n",
        "soup.find('h4') ==> 找出解析後的檔案你要的部分\n",
        "\n",
        "按兩下 (或按 Enter 鍵) 即可編輯"
      ]
    }
  ]
}